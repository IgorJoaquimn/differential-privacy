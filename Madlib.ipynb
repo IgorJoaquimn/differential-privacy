{
 "cells": [
  {
   "cell_type": "code",
   "execution_count": null,
   "id": "d0179637",
   "metadata": {},
   "outputs": [],
   "source": [
    "from models.madlib import MadlibModel"
   ]
  },
  {
   "cell_type": "markdown",
   "id": "f548e17b",
   "metadata": {},
   "source": [
    "## Setting up the Model"
   ]
  },
  {
   "cell_type": "code",
   "execution_count": null,
   "id": "ab75383a",
   "metadata": {},
   "outputs": [],
   "source": [
    "import torch\n",
    "\n",
    "if torch.cuda.is_available():\n",
    "    print(\"CUDA is available! PyTorch can use the GPU.\")\n",
    "    # You can also get more info about the GPU\n",
    "    print(f\"Number of GPUs available: {torch.cuda.device_count()}\")\n",
    "    print(f\"Current GPU device name: {torch.cuda.get_device_name(0)}\") # 0 is the index of the first GPU\n",
    "else:\n",
    "    print(\"CUDA is NOT available. PyTorch will run on CPU.\")"
   ]
  },
  {
   "cell_type": "code",
   "execution_count": null,
   "id": "b01404a2",
   "metadata": {},
   "outputs": [],
   "source": [
    "epsilon = 10"
   ]
  },
  {
   "cell_type": "code",
   "execution_count": null,
   "id": "90583c9f",
   "metadata": {},
   "outputs": [],
   "source": [
    "from transformers import DistilBertModel, DistilBertTokenizer\n",
    "\n",
    "# Load the pre-trained DistilBERT base uncased model and tokenizer\n",
    "model_name = \"distilbert/distilbert-base-uncased\"\n",
    "tokenizer = DistilBertTokenizer.from_pretrained(model_name)\n",
    "model = MadlibModel(model_name=model_name, epsilon=epsilon)\n",
    "device = torch.device(\"cuda\" if torch.cuda.is_available() else \"cpu\")\n",
    "model.to(device)\n",
    "\n",
    "# Set the model to evaluation mode\n",
    "model.eval()"
   ]
  },
  {
   "cell_type": "code",
   "execution_count": null,
   "id": "0613a6a1",
   "metadata": {},
   "outputs": [],
   "source": [
    "embedding_matrix = model.original_emb.weight  # Shape: (vocab_size, hidden_size)"
   ]
  },
  {
   "cell_type": "markdown",
   "id": "2a71494f",
   "metadata": {},
   "source": [
    "## Setting up the Data"
   ]
  },
  {
   "cell_type": "code",
   "execution_count": null,
   "id": "2e6bbdbd",
   "metadata": {},
   "outputs": [],
   "source": [
    "import pandas as pd\n",
    "# Load the IMDB dataset\n",
    "df = pd.read_csv(\"data/IMDB Dataset.csv\")"
   ]
  },
  {
   "cell_type": "code",
   "execution_count": null,
   "id": "3a353d66",
   "metadata": {},
   "outputs": [],
   "source": [
    "df.head()"
   ]
  },
  {
   "cell_type": "markdown",
   "id": "f05e724b",
   "metadata": {},
   "source": [
    "## Tokenize the text data"
   ]
  },
  {
   "cell_type": "code",
   "execution_count": null,
   "id": "729e2332",
   "metadata": {},
   "outputs": [],
   "source": [
    "def _tokenize_batch(texts, tokenizer, device):\n",
    "    \"\"\"\n",
    "    Tokenizes a batch of text strings and moves the input tensors to the specified device.\n",
    "    \"\"\"\n",
    "    encoded_input = tokenizer(\n",
    "        texts,\n",
    "        return_tensors='pt',\n",
    "        padding=True,\n",
    "        truncation=True,\n",
    "        add_special_tokens=True\n",
    "    ).to(device)\n",
    "    return encoded_input"
   ]
  },
  {
   "cell_type": "code",
   "execution_count": null,
   "id": "415813f7",
   "metadata": {},
   "outputs": [],
   "source": [
    "def _get_model_hidden_states(model, input_ids, attention_mask):\n",
    "    \"\"\"\n",
    "    Passes input through the model to get the last hidden states (token embeddings).\n",
    "    \"\"\"\n",
    "    with torch.no_grad():\n",
    "        output = model(\n",
    "            input_ids=input_ids,\n",
    "            attention_mask=attention_mask,\n",
    "            output_hidden_states=True\n",
    "        )\n",
    "    return output.last_hidden_state"
   ]
  },
  {
   "cell_type": "code",
   "execution_count": null,
   "id": "4720ec82",
   "metadata": {},
   "outputs": [],
   "source": [
    "def get_word_embeddings_distilbert_batch(texts, tokenizer, model):\n",
    "    \"\"\"\n",
    "    Generates word embeddings for a batch of texts using DistilBERT.\n",
    "    Aggregates subword embeddings into full word embeddings.\n",
    "\n",
    "    Args:\n",
    "        texts (list of str): A list of text strings to process.\n",
    "        tokenizer: The loaded DistilBertTokenizer.\n",
    "        model: The loaded DistilBertModel.\n",
    "        device (torch.device): The device (e.g., 'cuda' or 'cpu') to perform computations on.\n",
    "\n",
    "    Returns:\n",
    "        list of dict: A list, where each element is a dictionary mapping\n",
    "                      words to their embeddings for a single text in the batch.\n",
    "    \"\"\"\n",
    "    # 1. Tokenize the batch and move to device\n",
    "    encoded_input = _tokenize_batch(texts, tokenizer, device)\n",
    "    input_ids = encoded_input['input_ids']\n",
    "    attention_mask = encoded_input['attention_mask']\n",
    "\n",
    "    # 2. Get model outputs (last hidden states)\n",
    "    token_embeddings_batch = _get_model_hidden_states(model, input_ids, attention_mask)\n",
    "\n",
    "    all_token_embedding_maps = []\n",
    "\n",
    "    # 3. Iterate through each item in the batch\n",
    "    for batch_idx in range(len(texts)):\n",
    "        current_token_embeddings = token_embeddings_batch[batch_idx] # (sequence_length, embedding_dim)\n",
    "        current_input_ids = input_ids[batch_idx]\n",
    "        current_attention_mask = attention_mask[batch_idx] # (sequence_length,)\n",
    "        \n",
    "        # Convert input IDs back to token strings\n",
    "        current_tokens_list = tokenizer.convert_ids_to_tokens(current_input_ids)\n",
    "\n",
    "        # Create the token-to-embedding map for the current text\n",
    "        token_map_for_single_text = {}\n",
    "        for i in range(len(current_tokens_list)):\n",
    "            # Only include tokens that are NOT padding tokens (based on attention mask)\n",
    "            if current_attention_mask[i].item() == 1:\n",
    "                token = current_tokens_list[i]\n",
    "                embedding = current_token_embeddings[i].cpu() # Move embedding to CPU\n",
    "                token_map_for_single_text[token] = embedding\n",
    "            # else: # If it's a padding token, we just skip it\n",
    "            #     break # Optimization: If padding starts, rest of sequence is also padding (due to padding=True)\n",
    "\n",
    "        all_token_embedding_maps.append(token_map_for_single_text)\n",
    "\n",
    "    return all_token_embedding_maps\n"
   ]
  },
  {
   "cell_type": "code",
   "execution_count": null,
   "id": "1b71a8dc",
   "metadata": {},
   "outputs": [],
   "source": [
    "from tqdm.auto import tqdm # Import tqdm\n",
    "\n",
    "# Define a batch size\n",
    "batch_size = 256\n",
    "\n",
    "# List to store all word embeddings for the entire DataFrame\n",
    "all_df_word_embeddings = []\n",
    "\n",
    "# Iterate through the DataFrame in batches with tqdm\n",
    "# total: The total number of iterations. Here, it's the total number of items divided by batch_size.\n",
    "# desc: A description for the progress bar.\n",
    "for i in tqdm(range(0, len(df), batch_size), total=(len(df) + batch_size - 1) // batch_size, desc=\"Processing text batches\"):\n",
    "    batch_texts = df['review'][i : i + batch_size].tolist()\n",
    "    \n",
    "    # Get word embeddings for the current batch\n",
    "    batch_embeds = get_word_embeddings_distilbert_batch(batch_texts, tokenizer, model)\n",
    "    \n",
    "    # Extend the main list with results from this batch\n",
    "    all_df_word_embeddings.extend(batch_embeds)"
   ]
  },
  {
   "cell_type": "markdown",
   "id": "30cd784f",
   "metadata": {},
   "source": [
    "## To each token, find the other token in embedding_matrix that is closer"
   ]
  },
  {
   "cell_type": "code",
   "execution_count": null,
   "id": "74a9c42d",
   "metadata": {},
   "outputs": [],
   "source": [
    "import torch\n",
    "import torch.nn.functional as F\n",
    "import pandas as pd\n",
    "\n",
    "device = embedding_matrix.device  # ensure embeddings on same device\n",
    "embedding_matrix_norm = F.normalize(embedding_matrix, p=2, dim=1)  # (V, D)\n",
    "\n",
    "all_tokens = []\n",
    "all_closest_tokens = []\n",
    "all_similarities = []\n",
    "all_sentence_ids = []\n",
    "all_original_tokens = []\n",
    "\n",
    "for sent_id, sentence in enumerate(tqdm(all_df_word_embeddings, desc=\"Processing sentences\")):\n",
    "    tokens = list(sentence.keys())\n",
    "    embeddings = torch.stack([torch.tensor(sentence[tok], device=device) for tok in tokens])  # (N, D)\n",
    "    emb_norm = F.normalize(embeddings, p=2, dim=1)  # (N, D)\n",
    "\n",
    "    # Cosine similarity: (N, D) x (D, V) = (N, V)\n",
    "    similarities = torch.matmul(emb_norm, embedding_matrix_norm.T)  # (N, V)\n",
    "\n",
    "    # Find closest index per token\n",
    "    closest_indices = torch.argmax(similarities, dim=1)  # (N,)\n",
    "    closest_similarities = similarities[torch.arange(len(tokens)), closest_indices]  # (N,)\n",
    "\n",
    "    # Convert closest indices to tokens\n",
    "    closest_tokens = tokenizer.convert_ids_to_tokens(closest_indices.cpu().tolist())\n",
    "\n",
    "    # Append results\n",
    "    all_sentence_ids.extend([sent_id] * len(tokens))\n",
    "    all_original_tokens.extend(tokens)\n",
    "    all_tokens.extend(closest_tokens)\n",
    "    all_similarities.extend(closest_similarities.cpu().tolist())\n",
    "\n",
    "# Create DataFrame\n",
    "df_results = pd.DataFrame({\n",
    "    \"sentence_id\": all_sentence_ids,\n",
    "    \"original_token\": all_original_tokens,\n",
    "    \"closest_token\": all_tokens,\n",
    "    \"similarity\": all_similarities\n",
    "})\n"
   ]
  },
  {
   "cell_type": "code",
   "execution_count": null,
   "id": "8fa52c1b",
   "metadata": {},
   "outputs": [],
   "source": [
    "df_results.head()"
   ]
  },
  {
   "cell_type": "code",
   "execution_count": null,
   "id": "d1a9d16e",
   "metadata": {},
   "outputs": [],
   "source": [
    "df_results.to_csv(f\"data/closest_tokens_distilbert_epsilon{epsilon}.csv\", index=False)"
   ]
  }
 ],
 "metadata": {
  "kernelspec": {
   "display_name": "name_generator",
   "language": "python",
   "name": "python3"
  },
  "language_info": {
   "codemirror_mode": {
    "name": "ipython",
    "version": 3
   },
   "file_extension": ".py",
   "mimetype": "text/x-python",
   "name": "python",
   "nbconvert_exporter": "python",
   "pygments_lexer": "ipython3",
   "version": "3.12.2"
  }
 },
 "nbformat": 4,
 "nbformat_minor": 5
}
